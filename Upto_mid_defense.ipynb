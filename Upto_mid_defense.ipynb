{
 "cells": [
  {
   "cell_type": "code",
   "execution_count": 15,
   "metadata": {},
   "outputs": [],
   "source": [
    "#import keras libraries and packages\n",
    "from keras.models import Sequential\n",
    "from keras.layers import Convolution2D\n",
    "from keras.layers import MaxPooling2D\n",
    "from keras.layers import Flatten\n",
    "from keras.layers import Dense"
   ]
  },
  {
   "cell_type": "code",
   "execution_count": 16,
   "metadata": {},
   "outputs": [],
   "source": [
    "#initialize the CNN\n",
    "Classifier=Sequential()"
   ]
  },
  {
   "cell_type": "code",
   "execution_count": 17,
   "metadata": {},
   "outputs": [],
   "source": [
    "#step-1:convolution\n",
    "\n",
    "Classifier.add(Convolution2D(128, (3, 3), input_shape = (64, 64, 3),\n",
    "                      activation = 'relu'))\n",
    "Classifier.add(MaxPooling2D(pool_size = (2, 2)))\n",
    "# Adding a second convolutional layer\n",
    "Classifier.add(Convolution2D(64, (3,3),activation = 'relu'))\n",
    "Classifier.add(MaxPooling2D(pool_size = (2, 2)))\n",
    "# Adding a third convolutional layer\n",
    "Classifier.add(Convolution2D(32, (3, 3),activation = 'relu'))\n",
    "Classifier.add(MaxPooling2D(pool_size = (2, 2)))\n",
    "# Adding a third convolutional layer\n",
    "Classifier.add(Convolution2D(16, (3, 3),activation = 'relu'))\n",
    "Classifier.add(MaxPooling2D(pool_size = (2, 2)))"
   ]
  },
  {
   "cell_type": "code",
   "execution_count": 18,
   "metadata": {},
   "outputs": [
    {
     "name": "stderr",
     "output_type": "stream",
     "text": [
      "C:\\Users\\ANIL\\Miniconda3\\envs\\tensorflow\\lib\\site-packages\\ipykernel_launcher.py:3: UserWarning: Update your `Dense` call to the Keras 2 API: `Dense(activation=\"relu\", units=128)`\n",
      "  This is separate from the ipykernel package so we can avoid doing imports until\n",
      "C:\\Users\\ANIL\\Miniconda3\\envs\\tensorflow\\lib\\site-packages\\ipykernel_launcher.py:4: UserWarning: Update your `Dense` call to the Keras 2 API: `Dense(activation=\"relu\", units=64)`\n",
      "  after removing the cwd from sys.path.\n",
      "C:\\Users\\ANIL\\Miniconda3\\envs\\tensorflow\\lib\\site-packages\\ipykernel_launcher.py:5: UserWarning: Update your `Dense` call to the Keras 2 API: `Dense(activation=\"relu\", units=32)`\n",
      "  \"\"\"\n",
      "C:\\Users\\ANIL\\Miniconda3\\envs\\tensorflow\\lib\\site-packages\\ipykernel_launcher.py:6: UserWarning: Update your `Dense` call to the Keras 2 API: `Dense(activation=\"relu\", units=16)`\n",
      "  \n",
      "C:\\Users\\ANIL\\Miniconda3\\envs\\tensorflow\\lib\\site-packages\\ipykernel_launcher.py:8: UserWarning: Update your `Dense` call to the Keras 2 API: `Dense(activation=\"sigmoid\", units=1)`\n",
      "  \n"
     ]
    }
   ],
   "source": [
    "#step-3:flattening\n",
    "Classifier.add(Flatten())\n",
    "Classifier.add(Dense(output_dim=128,activation='relu'))\n",
    "Classifier.add(Dense(output_dim=64,activation='relu'))\n",
    "Classifier.add(Dense(output_dim=32,activation='relu'))\n",
    "Classifier.add(Dense(output_dim=16,activation='relu'))\n",
    "\n",
    "Classifier.add(Dense(output_dim=1,activation='sigmoid'))"
   ]
  },
  {
   "cell_type": "code",
   "execution_count": 19,
   "metadata": {},
   "outputs": [],
   "source": [
    "#compiling the CNN\n",
    "Classifier.compile(optimizer='adam',loss='binary_crossentropy',metrics=['accuracy'])"
   ]
  },
  {
   "cell_type": "code",
   "execution_count": 20,
   "metadata": {},
   "outputs": [],
   "source": [
    "#fitting th CNN to the images\n",
    "\n",
    "from keras.preprocessing.image import ImageDataGenerator \n",
    "train_datagen=ImageDataGenerator(rescale=1./255,\n",
    "                                 shear_range=0.2,\n",
    "                                 zoom_range=0.2,\n",
    "                                 horizontal_flip=True)\n",
    "test_datagen=ImageDataGenerator(rescale=1./255)"
   ]
  },
  {
   "cell_type": "code",
   "execution_count": 21,
   "metadata": {},
   "outputs": [
    {
     "name": "stdout",
     "output_type": "stream",
     "text": [
      "Found 8314 images belonging to 2 classes.\n",
      "Found 3326 images belonging to 2 classes.\n"
     ]
    }
   ],
   "source": [
    "training_set = train_datagen.flow_from_directory('train',\n",
    "                                                 target_size = (64,64 ),\n",
    "                                                 batch_size = 1,\n",
    "                                                 class_mode = 'binary')\n",
    "test_set = test_datagen.flow_from_directory('test',\n",
    "                                            target_size = (64, 64),\n",
    "                                            batch_size = 1,\n",
    "                                            class_mode = 'binary')"
   ]
  },
  {
   "cell_type": "code",
   "execution_count": null,
   "metadata": {},
   "outputs": [
    {
     "name": "stderr",
     "output_type": "stream",
     "text": [
      "C:\\Users\\ANIL\\Miniconda3\\envs\\tensorflow\\lib\\site-packages\\ipykernel_launcher.py:5: UserWarning: The semantics of the Keras 2 argument `steps_per_epoch` is not the same as the Keras 1 argument `samples_per_epoch`. `steps_per_epoch` is the number of batches to draw from the generator at each epoch. Basically steps_per_epoch = samples_per_epoch/batch_size. Similarly `nb_val_samples`->`validation_steps` and `val_samples`->`steps` arguments have changed. Update your method calls accordingly.\n",
      "  \"\"\"\n",
      "C:\\Users\\ANIL\\Miniconda3\\envs\\tensorflow\\lib\\site-packages\\ipykernel_launcher.py:5: UserWarning: Update your `fit_generator` call to the Keras 2 API: `fit_generator(<keras.pre..., validation_data=<keras.pre..., steps_per_epoch=8314, epochs=50, validation_steps=3326)`\n",
      "  \"\"\"\n"
     ]
    },
    {
     "name": "stdout",
     "output_type": "stream",
     "text": [
      "Epoch 1/50\n",
      "8314/8314 [==============================] - 259s 31ms/step - loss: 0.2747 - accuracy: 0.8735 - val_loss: 6.4267e-08 - val_accuracy: 0.9119\n",
      "Epoch 2/50\n",
      "8314/8314 [==============================] - 231s 28ms/step - loss: 0.1137 - accuracy: 0.9619 - val_loss: 0.0027 - val_accuracy: 0.9630\n",
      "Epoch 3/50\n",
      "8314/8314 [==============================] - 235s 28ms/step - loss: 0.0876 - accuracy: 0.9710 - val_loss: 1.1873e-04 - val_accuracy: 0.9681\n",
      "Epoch 4/50\n",
      "8314/8314 [==============================] - 232s 28ms/step - loss: 0.0723 - accuracy: 0.9764 - val_loss: 2.9017e-14 - val_accuracy: 0.9832\n",
      "Epoch 5/50\n",
      "8314/8314 [==============================] - 231s 28ms/step - loss: 0.0590 - accuracy: 0.9838 - val_loss: 1.2603e-09 - val_accuracy: 0.9832\n",
      "Epoch 6/50\n",
      "8314/8314 [==============================] - 249s 30ms/step - loss: 0.0553 - accuracy: 0.9835 - val_loss: 9.2091e-09 - val_accuracy: 0.9889\n",
      "Epoch 7/50\n",
      "8314/8314 [==============================] - 234s 28ms/step - loss: 0.0506 - accuracy: 0.9840 - val_loss: 1.0927e-04 - val_accuracy: 0.9901\n",
      "Epoch 8/50\n",
      "8314/8314 [==============================] - 236s 28ms/step - loss: 0.0515 - accuracy: 0.9852 - val_loss: 2.6622e-07 - val_accuracy: 0.9886\n",
      "Epoch 9/50\n",
      "8314/8314 [==============================] - 231s 28ms/step - loss: 0.0435 - accuracy: 0.9864 - val_loss: 4.1707e-04 - val_accuracy: 0.9922\n",
      "Epoch 10/50\n",
      "8314/8314 [==============================] - 227s 27ms/step - loss: 0.0427 - accuracy: 0.9879 - val_loss: 0.0132 - val_accuracy: 0.9687\n",
      "Epoch 11/50\n",
      "8314/8314 [==============================] - 226s 27ms/step - loss: 0.0478 - accuracy: 0.9903 - val_loss: 0.0262 - val_accuracy: 0.9940\n",
      "Epoch 12/50\n",
      "8314/8314 [==============================] - 227s 27ms/step - loss: 0.0778 - accuracy: 0.9828 - val_loss: 8.9282e-04 - val_accuracy: 0.9561\n",
      "Epoch 13/50\n",
      "8314/8314 [==============================] - 224s 27ms/step - loss: 0.0519 - accuracy: 0.9881 - val_loss: 1.0078e-14 - val_accuracy: 0.9934\n",
      "Epoch 14/50\n",
      "8314/8314 [==============================] - 236s 28ms/step - loss: 0.0791 - accuracy: 0.9848 - val_loss: 1.6846e-04 - val_accuracy: 0.9844\n",
      "Epoch 15/50\n",
      "8314/8314 [==============================] - 226s 27ms/step - loss: 0.0683 - accuracy: 0.9873 - val_loss: 1.7134e-14 - val_accuracy: 0.9925\n",
      "Epoch 16/50\n",
      "8314/8314 [==============================] - 225s 27ms/step - loss: 0.0414 - accuracy: 0.9909 - val_loss: 1.2033e-12 - val_accuracy: 0.9928\n",
      "Epoch 17/50\n",
      "8314/8314 [==============================] - 235s 28ms/step - loss: 0.0764 - accuracy: 0.9875 - val_loss: 2.7776e-17 - val_accuracy: 0.9862\n",
      "Epoch 18/50\n",
      "8314/8314 [==============================] - 240s 29ms/step - loss: 0.0381 - accuracy: 0.9917 - val_loss: 5.3086e-04 - val_accuracy: 0.9904\n",
      "Epoch 19/50\n",
      "8314/8314 [==============================] - 247s 30ms/step - loss: 0.0464 - accuracy: 0.9894 - val_loss: 2.1732e-32 - val_accuracy: 0.9940\n",
      "Epoch 20/50\n",
      "8314/8314 [==============================] - 247s 30ms/step - loss: 0.0383 - accuracy: 0.9916 - val_loss: 6.7992e-13 - val_accuracy: 0.9901\n",
      "Epoch 21/50\n",
      "8314/8314 [==============================] - 232s 28ms/step - loss: 0.0455 - accuracy: 0.9913 - val_loss: 2.3725e-06 - val_accuracy: 0.9934\n",
      "Epoch 22/50\n",
      "8314/8314 [==============================] - 235s 28ms/step - loss: 0.0343 - accuracy: 0.9901 - val_loss: 1.2853e-04 - val_accuracy: 0.9952\n",
      "Epoch 23/50\n",
      "8314/8314 [==============================] - 236s 28ms/step - loss: 0.0598 - accuracy: 0.9866 - val_loss: 2.8665e-09 - val_accuracy: 0.9892\n",
      "Epoch 24/50\n",
      "8314/8314 [==============================] - 230s 28ms/step - loss: 0.0366 - accuracy: 0.9907 - val_loss: 0.0011 - val_accuracy: 0.9940\n",
      "Epoch 25/50\n",
      "8314/8314 [==============================] - 227s 27ms/step - loss: 0.0395 - accuracy: 0.9911 - val_loss: 2.3859e-10 - val_accuracy: 0.9931\n",
      "Epoch 26/50\n",
      "8314/8314 [==============================] - 226s 27ms/step - loss: 0.0435 - accuracy: 0.9923 - val_loss: 1.4447e-04 - val_accuracy: 0.9880\n",
      "Epoch 27/50\n",
      "8314/8314 [==============================] - 232s 28ms/step - loss: 0.0873 - accuracy: 0.9866 - val_loss: 2.7161e-04 - val_accuracy: 0.9946\n",
      "Epoch 28/50\n",
      "8314/8314 [==============================] - 227s 27ms/step - loss: 0.0647 - accuracy: 0.9853 - val_loss: 0.0086 - val_accuracy: 0.9898\n",
      "Epoch 29/50\n",
      "8314/8314 [==============================] - 226s 27ms/step - loss: 0.0493 - accuracy: 0.9894 - val_loss: 3.1310e-09 - val_accuracy: 0.9817\n",
      "Epoch 30/50\n",
      "8314/8314 [==============================] - 235s 28ms/step - loss: 0.0563 - accuracy: 0.9892 - val_loss: 4.3484e-28 - val_accuracy: 0.9645\n",
      "Epoch 31/50\n",
      "8314/8314 [==============================] - 236s 28ms/step - loss: 0.0405 - accuracy: 0.9888 - val_loss: 0.0051 - val_accuracy: 0.9952\n",
      "Epoch 32/50\n",
      "8314/8314 [==============================] - 233s 28ms/step - loss: 0.0416 - accuracy: 0.9916 - val_loss: 0.0000e+00 - val_accuracy: 0.9955\n",
      "Epoch 33/50\n",
      "8314/8314 [==============================] - 227s 27ms/step - loss: 0.0802 - accuracy: 0.9895 - val_loss: 0.0216 - val_accuracy: 0.9913\n",
      "Epoch 34/50\n",
      "8314/8314 [==============================] - 221s 27ms/step - loss: 0.0778 - accuracy: 0.9889 - val_loss: 0.0049 - val_accuracy: 0.9883\n",
      "Epoch 35/50\n",
      "8314/8314 [==============================] - 220s 26ms/step - loss: 0.0362 - accuracy: 0.9911 - val_loss: 3.3737e-09 - val_accuracy: 0.9471\n",
      "Epoch 36/50\n",
      "8314/8314 [==============================] - 221s 27ms/step - loss: 0.0679 - accuracy: 0.9891 - val_loss: 0.0088 - val_accuracy: 0.9916\n",
      "Epoch 37/50\n",
      "4077/8314 [=============>................] - ETA: 1:42 - loss: 0.0449 - accuracy: 0.9875"
     ]
    }
   ],
   "source": [
    "model_class=Classifier.fit_generator(training_set,\n",
    "                        samples_per_epoch=8314,\n",
    "                        nb_epoch=50,\n",
    "                        validation_data=test_set,\n",
    "                        nb_val_samples=3326)"
   ]
  },
  {
   "cell_type": "code",
   "execution_count": null,
   "metadata": {},
   "outputs": [],
   "source": []
  },
  {
   "cell_type": "code",
   "execution_count": 9,
   "metadata": {},
   "outputs": [],
   "source": [
    "Classifier.save(\"empty_vs_occupied.h5\")"
   ]
  },
  {
   "cell_type": "code",
   "execution_count": 12,
   "metadata": {},
   "outputs": [
    {
     "data": {
      "image/png": "[encoded data removed]",
      "text/plain": [
       "<Figure size 288x216 with 1 Axes>"
      ]
     },
     "metadata": {},
     "output_type": "display_data"
    },
    {
     "name": "stdout",
     "output_type": "stream",
     "text": [
      "This Parking spot is Empty\n"
     ]
    }
   ],
   "source": [
    "import numpy as np\n",
    "from keras.preprocessing import image\n",
    "import os, glob\n",
    "import matplotlib.pyplot as plt\n",
    "import tensorflow as tf\n",
    "\n",
    "\n",
    "#load the saved data \n",
    "loaded_model = tf.keras.models.load_model('empty_vs_occupied.h5')\n",
    "\n",
    "#load the image\n",
    "def show_images(images, cmap=None):\n",
    "    cols = 2\n",
    "    rows = (len(images)+1)//cols\n",
    "    \n",
    "    plt.figure(figsize=(4, 3))\n",
    "    for i, image in enumerate(images):\n",
    "        plt.subplot(rows, cols, i+1)\n",
    "        # use gray scale color map if there is only one channel\n",
    "        cmap = 'gray' if len(image.shape)==2 else cmap\n",
    "        plt.imshow(image, cmap=cmap)\n",
    "        plt.xticks([])\n",
    "        plt.yticks([])\n",
    "    plt.tight_layout(pad=0, h_pad=0, w_pad=0)\n",
    "    plt.show()\n",
    "    \n",
    "test_images = [plt.imread(path) for path in glob.glob('to_test/1.jpg')]\n",
    "\n",
    "show_images(test_images)\n",
    "\n",
    "#prediction:\n",
    "test_image = image.load_img('to_test/1.jpg',\n",
    "                                     target_size = (64,64))\n",
    "test_image = image.img_to_array(test_image)\n",
    "test_image = np.expand_dims(test_image,axis = 0)\n",
    "result = loaded_model.predict(test_image)\n",
    "\n",
    "\n",
    "if result[0][0]==1:\n",
    "    prediction = 'This Parking spot is Empty'\n",
    "    print(prediction)\n",
    "else:\n",
    "    prediction='This Parking Spot is Occupied'\n",
    "    print(prediction)\n",
    "    "
   ]
  },
  {
   "cell_type": "code",
   "execution_count": null,
   "metadata": {},
   "outputs": [],
   "source": []
  },
  {
   "cell_type": "code",
   "execution_count": 14,
   "metadata": {},
   "outputs": [
    {
     "ename": "AttributeError",
     "evalue": "'Sequential' object has no attribute 'history'",
     "output_type": "error",
     "traceback": [
      "\u001b[1;31m---------------------------------------------------------------------------\u001b[0m",
      "\u001b[1;31mAttributeError\u001b[0m                            Traceback (most recent call last)",
      "\u001b[1;32m<ipython-input-14-9a3e046af95f>\u001b[0m in \u001b[0;36m<module>\u001b[1;34m\u001b[0m\n\u001b[0;32m      7\u001b[0m \u001b[1;33m\u001b[0m\u001b[0m\n\u001b[0;32m      8\u001b[0m \u001b[1;33m\u001b[0m\u001b[0m\n\u001b[1;32m----> 9\u001b[1;33m \u001b[0mprint\u001b[0m\u001b[1;33m(\u001b[0m\u001b[0mloaded_model\u001b[0m\u001b[1;33m.\u001b[0m\u001b[0mhistory\u001b[0m\u001b[1;33m.\u001b[0m\u001b[0mkeys\u001b[0m\u001b[1;33m(\u001b[0m\u001b[1;33m)\u001b[0m\u001b[1;33m)\u001b[0m\u001b[1;33m\u001b[0m\u001b[1;33m\u001b[0m\u001b[0m\n\u001b[0m\u001b[0;32m     10\u001b[0m \u001b[0mplt\u001b[0m\u001b[1;33m.\u001b[0m\u001b[0mplot\u001b[0m\u001b[1;33m(\u001b[0m\u001b[0mloaded_model\u001b[0m\u001b[1;33m.\u001b[0m\u001b[0mhistory\u001b[0m\u001b[1;33m[\u001b[0m\u001b[1;34m'accuracy'\u001b[0m\u001b[1;33m]\u001b[0m\u001b[1;33m)\u001b[0m\u001b[1;33m\u001b[0m\u001b[1;33m\u001b[0m\u001b[0m\n\u001b[0;32m     11\u001b[0m \u001b[0mplt\u001b[0m\u001b[1;33m.\u001b[0m\u001b[0mplot\u001b[0m\u001b[1;33m(\u001b[0m\u001b[0mloaded_model\u001b[0m\u001b[1;33m.\u001b[0m\u001b[0mhistory\u001b[0m\u001b[1;33m[\u001b[0m\u001b[1;34m'val_accuracy'\u001b[0m\u001b[1;33m]\u001b[0m\u001b[1;33m)\u001b[0m\u001b[1;33m\u001b[0m\u001b[1;33m\u001b[0m\u001b[0m\n",
      "\u001b[1;31mAttributeError\u001b[0m: 'Sequential' object has no attribute 'history'"
     ]
    }
   ],
   "source": [
    "import matplotlib.pyplot as plt\n",
    "import numpy\n",
    "import os\n",
    "from keras import applications\n",
    "from keras.callbacks import ModelCheckpoint, LearningRateScheduler, TensorBoard, EarlyStopping\n",
    "from keras.preprocessing import image\n",
    "\n",
    "print(model_class.history.keys())\n",
    "plt.plot(model_class.history['accuracy'])\n",
    "plt.plot(model_class.history['val_accuracy'])\n",
    "plt.title('model accuracy')\n",
    "plt.ylabel('acc')\n",
    "plt.xlabel('epoch')\n",
    "plt.legend(['train', 'test'], loc='upper left')\n",
    "plt.show()"
   ]
  },
  {
   "cell_type": "code",
   "execution_count": 11,
   "metadata": {},
   "outputs": [
    {
     "data": {
      "image/png": "[encoded data removed]",
      "text/plain": [
       "<Figure size 432x288 with 1 Axes>"
      ]
     },
     "metadata": {
      "needs_background": "light"
     },
     "output_type": "display_data"
    }
   ],
   "source": [
    "plt.plot(model_class.history['loss'])\n",
    "plt.plot(model_class.history['val_loss'])\n",
    "plt.title('model loss')\n",
    "plt.ylabel('loss')\n",
    "plt.xlabel('epoch')\n",
    "plt.legend(['train', 'test'], loc='upper left')\n",
    "plt.show()"
   ]
  },
  {
   "cell_type": "code",
   "execution_count": null,
   "metadata": {},
   "outputs": [],
   "source": []
  }
 ],
 "metadata": {
  "kernelspec": {
   "display_name": "Python 3",
   "language": "python",
   "name": "python3"
  },
  "language_info": {
   "codemirror_mode": {
    "name": "ipython",
    "version": 3
   },
   "file_extension": ".py",
   "mimetype": "text/x-python",
   "name": "python",
   "nbconvert_exporter": "python",
   "pygments_lexer": "ipython3",
   "version": "3.7.9"
  }
 },
 "nbformat": 4,
 "nbformat_minor": 4
}
